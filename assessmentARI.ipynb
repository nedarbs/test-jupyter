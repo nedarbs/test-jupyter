{
  "metadata": {
    "language_info": {
      "file_extension": ".sqlite3-console",
      "mimetype": "text/x-sqlite3-console",
      "name": "sqlite3",
      "version": "0.4.0"
    },
    "kernelspec": {
      "name": "SQLite",
      "display_name": "SQLite",
      "language": "sql"
    }
  },
  "nbformat_minor": 4,
  "nbformat": 4,
  "cells": [
    {
      "cell_type": "code",
      "source": "\n\n-- Calculate the difference between the pick and the delivery date\n\ncreate table time_calculation as\nselect distinct _id,\n        courier,\n        method,\n        deliveryDate,\n        pickupDate,\n        datediff(pickupDate,deliveryDate) as timedelivery\nfrom shipments\nwhere deliverDate is not null\ngroup by _id, courier, method, deliveryDate, pickupDate ;\n\n-- KPI I : Average delivery time per courier in days\n\ncreate table avg_delivery_courier as\nselect distinct courier,\n       mean(timedelivery) as avg_delivery_time\nfrom time_calculation\ngroup by courier\norder by courier ;\n\n\n-- KPI II : Average delivery time per method in days\n\ncreate table avg_delivery_courier as\nselect distinct method,\n       mean(timedelivery) as avg_delivery_time\nfrom time_calculation\ngroup by method\norder by method ;\n\n\n\n-- KPI III : Average number of products per order\n\n-- Import of Packages sheet and separate products : could be done in Excel or in SQL\n\ncreate table count_products as\nselect distinct _id,\n       count(product) as nb_products\nfrom packages\ngroup by _id\norder by _id ;\n\n\ncreate table count_products as\nselect count(nb_products) as nb_products_per_order\nfrom packages  ;\n\n\n\n\n",
      "metadata": {},
      "execution_count": null,
      "outputs": []
    }
  ]
}